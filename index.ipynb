{
 "cells": [
  {
   "cell_type": "markdown",
   "metadata": {},
   "source": [
    "### Jack Risse\n",
    "### Module 3 Project\n",
    "### October 28, 2019"
   ]
  },
  {
   "cell_type": "markdown",
   "metadata": {},
   "source": [
    "## Hypothesis 1\n",
    "#### Null Hypothesis: \n",
    "The quantity of a product in an order when no discount is given will be <strong>equal</strong> to the quantity of a product in an order when a discount is given.\n",
    "\n",
    "\n",
    "\n",
    "#### Alternative Hypothesis:\n",
    "The quantity of a product in an order when no discount is given will be <strong>less</strong> than the quantity of a product in an order when a discount is given. At what discount level is the most significant?"
   ]
  },
  {
   "cell_type": "code",
   "execution_count": 1,
   "metadata": {},
   "outputs": [],
   "source": [
    "import sqlite3 # query and connecting through databases\n",
    "import funcs # custom module \n",
    "import warnings # ingores all the annoying matplotlib warnings\n",
    "\n",
    "import numpy as np \n",
    "import matplotlib.pyplot as plt\n",
    "import pandas as pd\n",
    "import seaborn as sns\n",
    "import statsmodels.api as sm\n",
    "import statsmodels.formula.api as smf\n",
    "\n",
    "from sklearn.preprocessing import Normalizer, MinMaxScaler\n",
    "from scipy.stats import norm, jarque_bera, ttest_ind, f_oneway\n",
    "\n",
    "warnings.filterwarnings('ignore')\n",
    "\n",
    "DB = 'Northwind_small.sqlite' # database that was given"
   ]
  },
  {
   "cell_type": "code",
   "execution_count": 2,
   "metadata": {},
   "outputs": [
    {
     "data": {
      "text/html": [
       "<div>\n",
       "<style scoped>\n",
       "    .dataframe tbody tr th:only-of-type {\n",
       "        vertical-align: middle;\n",
       "    }\n",
       "\n",
       "    .dataframe tbody tr th {\n",
       "        vertical-align: top;\n",
       "    }\n",
       "\n",
       "    .dataframe thead th {\n",
       "        text-align: right;\n",
       "    }\n",
       "</style>\n",
       "<table border=\"1\" class=\"dataframe\">\n",
       "  <thead>\n",
       "    <tr style=\"text-align: right;\">\n",
       "      <th></th>\n",
       "      <th>OrderId</th>\n",
       "      <th>ProductId</th>\n",
       "      <th>Quantity</th>\n",
       "      <th>Discount</th>\n",
       "      <th>UnitPrice</th>\n",
       "    </tr>\n",
       "  </thead>\n",
       "  <tbody>\n",
       "    <tr>\n",
       "      <th>0</th>\n",
       "      <td>10285</td>\n",
       "      <td>1</td>\n",
       "      <td>45</td>\n",
       "      <td>0.20</td>\n",
       "      <td>14.4</td>\n",
       "    </tr>\n",
       "    <tr>\n",
       "      <th>1</th>\n",
       "      <td>10294</td>\n",
       "      <td>1</td>\n",
       "      <td>18</td>\n",
       "      <td>0.00</td>\n",
       "      <td>14.4</td>\n",
       "    </tr>\n",
       "    <tr>\n",
       "      <th>2</th>\n",
       "      <td>10317</td>\n",
       "      <td>1</td>\n",
       "      <td>20</td>\n",
       "      <td>0.00</td>\n",
       "      <td>14.4</td>\n",
       "    </tr>\n",
       "    <tr>\n",
       "      <th>3</th>\n",
       "      <td>10348</td>\n",
       "      <td>1</td>\n",
       "      <td>15</td>\n",
       "      <td>0.15</td>\n",
       "      <td>14.4</td>\n",
       "    </tr>\n",
       "    <tr>\n",
       "      <th>4</th>\n",
       "      <td>10354</td>\n",
       "      <td>1</td>\n",
       "      <td>12</td>\n",
       "      <td>0.00</td>\n",
       "      <td>14.4</td>\n",
       "    </tr>\n",
       "  </tbody>\n",
       "</table>\n",
       "</div>"
      ],
      "text/plain": [
       "   OrderId  ProductId  Quantity  Discount  UnitPrice\n",
       "0    10285          1        45      0.20       14.4\n",
       "1    10294          1        18      0.00       14.4\n",
       "2    10317          1        20      0.00       14.4\n",
       "3    10348          1        15      0.15       14.4\n",
       "4    10354          1        12      0.00       14.4"
      ]
     },
     "execution_count": 2,
     "metadata": {},
     "output_type": "execute_result"
    }
   ],
   "source": [
    "query = 'select OrderId, ProductId, Quantity, Discount, UnitPrice from OrderDetail order by ProductId;'\n",
    "h1 = funcs.sql_to_df(DB, query)\n",
    "h1.head()"
   ]
  },
  {
   "cell_type": "code",
   "execution_count": 3,
   "metadata": {},
   "outputs": [
    {
     "data": {
      "text/html": [
       "<div>\n",
       "<style scoped>\n",
       "    .dataframe tbody tr th:only-of-type {\n",
       "        vertical-align: middle;\n",
       "    }\n",
       "\n",
       "    .dataframe tbody tr th {\n",
       "        vertical-align: top;\n",
       "    }\n",
       "\n",
       "    .dataframe thead th {\n",
       "        text-align: right;\n",
       "    }\n",
       "</style>\n",
       "<table border=\"1\" class=\"dataframe\">\n",
       "  <thead>\n",
       "    <tr style=\"text-align: right;\">\n",
       "      <th></th>\n",
       "      <th>OrderId</th>\n",
       "      <th>ProductId</th>\n",
       "      <th>Quantity</th>\n",
       "      <th>Discount</th>\n",
       "      <th>UnitPrice</th>\n",
       "    </tr>\n",
       "  </thead>\n",
       "  <tbody>\n",
       "    <tr>\n",
       "      <th>count</th>\n",
       "      <td>2155.000000</td>\n",
       "      <td>2155.000000</td>\n",
       "      <td>2155.000000</td>\n",
       "      <td>2155.000000</td>\n",
       "      <td>2155.000000</td>\n",
       "    </tr>\n",
       "    <tr>\n",
       "      <th>mean</th>\n",
       "      <td>10659.375870</td>\n",
       "      <td>40.793039</td>\n",
       "      <td>23.812993</td>\n",
       "      <td>0.056167</td>\n",
       "      <td>26.218520</td>\n",
       "    </tr>\n",
       "    <tr>\n",
       "      <th>std</th>\n",
       "      <td>241.378032</td>\n",
       "      <td>22.159019</td>\n",
       "      <td>19.022047</td>\n",
       "      <td>0.083450</td>\n",
       "      <td>29.827418</td>\n",
       "    </tr>\n",
       "    <tr>\n",
       "      <th>min</th>\n",
       "      <td>10248.000000</td>\n",
       "      <td>1.000000</td>\n",
       "      <td>1.000000</td>\n",
       "      <td>0.000000</td>\n",
       "      <td>2.000000</td>\n",
       "    </tr>\n",
       "    <tr>\n",
       "      <th>25%</th>\n",
       "      <td>10451.000000</td>\n",
       "      <td>22.000000</td>\n",
       "      <td>10.000000</td>\n",
       "      <td>0.000000</td>\n",
       "      <td>12.000000</td>\n",
       "    </tr>\n",
       "    <tr>\n",
       "      <th>50%</th>\n",
       "      <td>10657.000000</td>\n",
       "      <td>41.000000</td>\n",
       "      <td>20.000000</td>\n",
       "      <td>0.000000</td>\n",
       "      <td>18.400000</td>\n",
       "    </tr>\n",
       "    <tr>\n",
       "      <th>75%</th>\n",
       "      <td>10862.500000</td>\n",
       "      <td>60.000000</td>\n",
       "      <td>30.000000</td>\n",
       "      <td>0.100000</td>\n",
       "      <td>32.000000</td>\n",
       "    </tr>\n",
       "    <tr>\n",
       "      <th>max</th>\n",
       "      <td>11077.000000</td>\n",
       "      <td>77.000000</td>\n",
       "      <td>130.000000</td>\n",
       "      <td>0.250000</td>\n",
       "      <td>263.500000</td>\n",
       "    </tr>\n",
       "  </tbody>\n",
       "</table>\n",
       "</div>"
      ],
      "text/plain": [
       "            OrderId    ProductId     Quantity     Discount    UnitPrice\n",
       "count   2155.000000  2155.000000  2155.000000  2155.000000  2155.000000\n",
       "mean   10659.375870    40.793039    23.812993     0.056167    26.218520\n",
       "std      241.378032    22.159019    19.022047     0.083450    29.827418\n",
       "min    10248.000000     1.000000     1.000000     0.000000     2.000000\n",
       "25%    10451.000000    22.000000    10.000000     0.000000    12.000000\n",
       "50%    10657.000000    41.000000    20.000000     0.000000    18.400000\n",
       "75%    10862.500000    60.000000    30.000000     0.100000    32.000000\n",
       "max    11077.000000    77.000000   130.000000     0.250000   263.500000"
      ]
     },
     "execution_count": 3,
     "metadata": {},
     "output_type": "execute_result"
    }
   ],
   "source": [
    "h1.describe()"
   ]
  },
  {
   "cell_type": "markdown",
   "metadata": {},
   "source": [
    "### Feature Engineering"
   ]
  },
  {
   "cell_type": "code",
   "execution_count": 4,
   "metadata": {},
   "outputs": [
    {
     "name": "stdout",
     "output_type": "stream",
     "text": [
      "-------darker shades of orange means that the grey bar is under the orange-------\n"
     ]
    },
    {
     "data": {
      "image/png": "[encoded data removed]",
      "text/plain": [
       "<Figure size 1440x720 with 1 Axes>"
      ]
     },
     "metadata": {
      "needs_background": "light"
     },
     "output_type": "display_data"
    },
    {
     "data": {
      "image/png": "[encoded data removed]",
      "text/plain": [
       "<Figure size 1440x720 with 1 Axes>"
      ]
     },
     "metadata": {
      "needs_background": "light"
     },
     "output_type": "display_data"
    }
   ],
   "source": [
    "\"\"\"\n",
    "for loops to count how much of a product was ordered \n",
    "when a discount is applied and when a discount wasn't \n",
    "applied\n",
    "\"\"\"\n",
    "\n",
    "disc_counts = []\n",
    "for i in range(1, len(h1['ProductId'].unique())+1):\n",
    "    df = h1.loc[(h1['Discount'] > 0) & (h1['ProductId'] == i)]\n",
    "    count = df['Quantity'].values.sum()\n",
    "    disc_counts.append(count)\n",
    "\n",
    "no_disc_counts = []\n",
    "for i in range(1, len(h1['ProductId'].unique())+1):\n",
    "    df = h1.loc[(h1['Discount'] == 0) & (h1['ProductId'] == i)]\n",
    "    count = df['Quantity'].values.sum()\n",
    "    no_disc_counts.append(count)\n",
    "    \n",
    "\"\"\"finds the average quantity of a product for each order\"\"\"\n",
    "\n",
    "discount_mu = h1[h1['Discount']!=0].groupby('ProductId')['Quantity'].mean()\n",
    "no_discount_mu = h1[h1['Discount']==0].groupby('ProductId')['Quantity'].mean()\n",
    "    \n",
    "\"\"\"graphs the two comparisions above\"\"\"\n",
    "print('-------darker shades of orange means that the grey bar is under the orange-------')\n",
    "fig = plt.figure(figsize=(20,10))    \n",
    "plt.subplot(211)\n",
    "plt.bar(discount_mu.index, discount_mu.values, alpha=1, label='Discount', color='#1a9988ff')\n",
    "plt.bar(no_discount_mu.index, no_discount_mu.values, alpha=0.8, label='No Discount', color='#eb5600ff')\n",
    "plt.title('Average Quantity Ordered w/out a Discount per Product')\n",
    "plt.xlabel('Products')\n",
    "plt.ylabel('Quantity (mean)')\n",
    "plt.legend()\n",
    "plt.show()\n",
    "fig = plt.figure(figsize=(20,10))\n",
    "plt.subplot(212)\n",
    "plt.bar(h1['ProductId'].unique(), disc_counts, alpha=1, color='#1a9988ff', label='Discount')\n",
    "plt.bar(h1['ProductId'].unique(), no_disc_counts, alpha=.7, color='#eb5600ff', label='No Discount')\n",
    "plt.title('Total Quantity for a Product')\n",
    "plt.xlabel('Products')\n",
    "plt.ylabel('Quantity')\n",
    "plt.legend()\n",
    "plt.show()"
   ]
  },
  {
   "cell_type": "code",
   "execution_count": 5,
   "metadata": {},
   "outputs": [],
   "source": [
    "h1['bi_Discount'] = h1['Discount'].apply(lambda x: 1 if x > 0 else 0) "
   ]
  },
  {
   "cell_type": "code",
   "execution_count": 6,
   "metadata": {},
   "outputs": [
    {
     "data": {
      "text/html": [
       "<div>\n",
       "<style scoped>\n",
       "    .dataframe tbody tr th:only-of-type {\n",
       "        vertical-align: middle;\n",
       "    }\n",
       "\n",
       "    .dataframe tbody tr th {\n",
       "        vertical-align: top;\n",
       "    }\n",
       "\n",
       "    .dataframe thead th {\n",
       "        text-align: right;\n",
       "    }\n",
       "</style>\n",
       "<table border=\"1\" class=\"dataframe\">\n",
       "  <thead>\n",
       "    <tr style=\"text-align: right;\">\n",
       "      <th></th>\n",
       "      <th>OrderId</th>\n",
       "      <th>ProductId</th>\n",
       "      <th>Quantity</th>\n",
       "      <th>Discount</th>\n",
       "      <th>UnitPrice</th>\n",
       "      <th>bi_Discount</th>\n",
       "    </tr>\n",
       "  </thead>\n",
       "  <tbody>\n",
       "    <tr>\n",
       "      <th>0</th>\n",
       "      <td>10285</td>\n",
       "      <td>1</td>\n",
       "      <td>45</td>\n",
       "      <td>0.20</td>\n",
       "      <td>14.4</td>\n",
       "      <td>1</td>\n",
       "    </tr>\n",
       "    <tr>\n",
       "      <th>1</th>\n",
       "      <td>10294</td>\n",
       "      <td>1</td>\n",
       "      <td>18</td>\n",
       "      <td>0.00</td>\n",
       "      <td>14.4</td>\n",
       "      <td>0</td>\n",
       "    </tr>\n",
       "    <tr>\n",
       "      <th>2</th>\n",
       "      <td>10317</td>\n",
       "      <td>1</td>\n",
       "      <td>20</td>\n",
       "      <td>0.00</td>\n",
       "      <td>14.4</td>\n",
       "      <td>0</td>\n",
       "    </tr>\n",
       "    <tr>\n",
       "      <th>3</th>\n",
       "      <td>10348</td>\n",
       "      <td>1</td>\n",
       "      <td>15</td>\n",
       "      <td>0.15</td>\n",
       "      <td>14.4</td>\n",
       "      <td>1</td>\n",
       "    </tr>\n",
       "    <tr>\n",
       "      <th>4</th>\n",
       "      <td>10354</td>\n",
       "      <td>1</td>\n",
       "      <td>12</td>\n",
       "      <td>0.00</td>\n",
       "      <td>14.4</td>\n",
       "      <td>0</td>\n",
       "    </tr>\n",
       "  </tbody>\n",
       "</table>\n",
       "</div>"
      ],
      "text/plain": [
       "   OrderId  ProductId  Quantity  Discount  UnitPrice  bi_Discount\n",
       "0    10285          1        45      0.20       14.4            1\n",
       "1    10294          1        18      0.00       14.4            0\n",
       "2    10317          1        20      0.00       14.4            0\n",
       "3    10348          1        15      0.15       14.4            1\n",
       "4    10354          1        12      0.00       14.4            0"
      ]
     },
     "execution_count": 6,
     "metadata": {},
     "output_type": "execute_result"
    }
   ],
   "source": [
    "h1.head()"
   ]
  },
  {
   "cell_type": "code",
   "execution_count": 7,
   "metadata": {},
   "outputs": [
    {
     "name": "stdout",
     "output_type": "stream",
     "text": [
      "(stat, pvalue):\n",
      " (523.7128429494181, 0.0) (3030.5195586308337, 0.0)\n"
     ]
    }
   ],
   "source": [
    "discount, quantity = h1['Discount'], h1['Quantity']\n",
    "q_mean, q_std = np.mean(quantity), np.var(quantity, ddof=1)\n",
    "d_mean, d_std = np.mean(discount), np.var(discount, ddof=1)\n",
    "q_n, d_n = len(quantity), len(discount)\n",
    "\n",
    "# testing for the normality assumption\n",
    "print(\"(stat, pvalue):\\n\", jarque_bera(discount), jarque_bera(quantity))"
   ]
  },
  {
   "cell_type": "markdown",
   "metadata": {},
   "source": [
    "The jarque_bera test tests for normality in our distribution, typically used for large samples. A large J-B value usually means that the distribution of our sample isn't normal."
   ]
  },
  {
   "cell_type": "code",
   "execution_count": 8,
   "metadata": {},
   "outputs": [
    {
     "data": {
      "text/plain": [
       "<matplotlib.axes._subplots.AxesSubplot at 0x1c1e626828>"
      ]
     },
     "execution_count": 8,
     "metadata": {},
     "output_type": "execute_result"
    },
    {
     "data": {
      "image/png": "[encoded data removed]",
      "text/plain": [
       "<Figure size 1080x720 with 4 Axes>"
      ]
     },
     "metadata": {
      "needs_background": "light"
     },
     "output_type": "display_data"
    }
   ],
   "source": [
    "\"\"\"Creating a normal distribution that represents the data in hand\"\"\"\n",
    "\n",
    "h1['norm_quantity'], h1['norm_discount'] = norm.rvs(loc=q_mean, scale=q_std, size=q_n, random_state=0), norm.rvs(loc=d_mean, scale=d_std, size=d_n, random_state=0)\n",
    "\n",
    "fig = plt.figure(figsize=(15,10))\n",
    "plt.subplot(221)\n",
    "sns.distplot(quantity)\n",
    "plt.subplot(222)\n",
    "sns.distplot(h1['norm_quantity'])\n",
    "plt.subplot(223)\n",
    "sns.distplot(discount)\n",
    "plt.subplot(224)\n",
    "sns.distplot(h1['norm_discount'])"
   ]
  },
  {
   "cell_type": "markdown",
   "metadata": {},
   "source": [
    "Our transformation seemed to be successful in creating a normal distribution that represents our data in hand."
   ]
  },
  {
   "cell_type": "code",
   "execution_count": 9,
   "metadata": {},
   "outputs": [
    {
     "name": "stdout",
     "output_type": "stream",
     "text": [
      "T-stat: 6.478563196294901\n",
      "p-value: 1.1440924523215966e-10\n",
      " CohensD: 0.2862724481729282\n"
     ]
    }
   ],
   "source": [
    "\"\"\"\n",
    "Let's test if there's a statistical significance between \n",
    "discount and no discount with Welchs t-test because we want \n",
    "to see if they are equal (two-tailed) and the variance's of \n",
    "two aren't similar.\n",
    "\"\"\"\n",
    "\n",
    "discount = h1[h1[\"Discount\"]!=0][\"Quantity\"] # experimental\n",
    "no_discount = h1[h1[\"Discount\"]==0][\"Quantity\"] # control\n",
    "\n",
    "t, p = ttest_ind(discount, no_discount)\n",
    "d = funcs.Cohen_d(discount, no_discount)\n",
    "print('T-stat: {}\\np-value: {}\\n'.format(t,p), \"CohensD: {}\".format(d))"
   ]
  },
  {
   "cell_type": "markdown",
   "metadata": {},
   "source": [
    "## Results\n",
    "The null hypothesis ended up being rejected. Alpha was set to .05 or 5%. The general rule to decide if the null hypothesis will be rejected or not is if the p-value is less than the set alpha. Even though the null hypothesis was rejected, the Cohens D score indicates that a discount doesn't effect the quantity of a product being ordered."
   ]
  },
  {
   "cell_type": "code",
   "execution_count": 10,
   "metadata": {},
   "outputs": [],
   "source": [
    "groups = (h1.Discount == 0.05) | (h1.Discount == 0.10) | (h1.Discount == 0.15) | (h1.Discount == 0.20) | (h1.Discount == 0.25)\n",
    "h1 = h1.loc[groups] # discounts of 1% 2% 3% 4% 6% had insuffiecnt data so they were not taken into account\n",
    "\n",
    "group_h1 = h1.groupby('Discount')['OrderId'].agg(['count'])\n",
    "group_h12 = h1.groupby('Discount')['Quantity'].agg(['mean', 'sum'])"
   ]
  },
  {
   "cell_type": "code",
   "execution_count": 11,
   "metadata": {},
   "outputs": [
    {
     "data": {
      "text/plain": [
       "Text(0, 0.5, 'Average Quantity')"
      ]
     },
     "execution_count": 11,
     "metadata": {},
     "output_type": "execute_result"
    },
    {
     "data": {
      "image/png": "[encoded data removed]",
      "text/plain": [
       "<Figure size 1080x360 with 2 Axes>"
      ]
     },
     "metadata": {
      "needs_background": "light"
     },
     "output_type": "display_data"
    }
   ],
   "source": [
    "fig = plt.figure(figsize=(15,5))\n",
    "plt.subplot(121)\n",
    "sns.barplot(group_h1.index, group_h1['count'], color='#1a9988ff')\n",
    "plt.title('# of Ordered Discounted Products')\n",
    "plt.ylabel('Total Orders')\n",
    "plt.subplot(122)\n",
    "sns.barplot(group_h12.index, group_h12['mean'], color='#eb5600ff')\n",
    "plt.title('The Average Quantity of the Discounted Products')\n",
    "plt.ylabel('Average Quantity')"
   ]
  },
  {
   "cell_type": "markdown",
   "metadata": {},
   "source": [
    "If a discount was given, the <strong>products with 5% off</strong> seemed be the one that thrived when the discount was given."
   ]
  },
  {
   "cell_type": "markdown",
   "metadata": {},
   "source": [
    "## Hypothesis 2\n",
    "I wanted to see if the price of the product was effected on where the product was coming from. Due to not enough of data and no comparison to products from different locations."
   ]
  },
  {
   "cell_type": "code",
   "execution_count": 12,
   "metadata": {},
   "outputs": [
    {
     "data": {
      "text/html": [
       "<div>\n",
       "<style scoped>\n",
       "    .dataframe tbody tr th:only-of-type {\n",
       "        vertical-align: middle;\n",
       "    }\n",
       "\n",
       "    .dataframe tbody tr th {\n",
       "        vertical-align: top;\n",
       "    }\n",
       "\n",
       "    .dataframe thead th {\n",
       "        text-align: right;\n",
       "    }\n",
       "</style>\n",
       "<table border=\"1\" class=\"dataframe\">\n",
       "  <thead>\n",
       "    <tr style=\"text-align: right;\">\n",
       "      <th></th>\n",
       "      <th>SupplierId</th>\n",
       "      <th>ProductName</th>\n",
       "      <th>UnitPrice</th>\n",
       "      <th>Country</th>\n",
       "    </tr>\n",
       "  </thead>\n",
       "  <tbody>\n",
       "    <tr>\n",
       "      <th>0</th>\n",
       "      <td>1</td>\n",
       "      <td>Chai</td>\n",
       "      <td>18.00</td>\n",
       "      <td>UK</td>\n",
       "    </tr>\n",
       "    <tr>\n",
       "      <th>1</th>\n",
       "      <td>1</td>\n",
       "      <td>Chang</td>\n",
       "      <td>19.00</td>\n",
       "      <td>UK</td>\n",
       "    </tr>\n",
       "    <tr>\n",
       "      <th>2</th>\n",
       "      <td>1</td>\n",
       "      <td>Aniseed Syrup</td>\n",
       "      <td>10.00</td>\n",
       "      <td>UK</td>\n",
       "    </tr>\n",
       "    <tr>\n",
       "      <th>3</th>\n",
       "      <td>2</td>\n",
       "      <td>Chef Anton's Cajun Seasoning</td>\n",
       "      <td>22.00</td>\n",
       "      <td>USA</td>\n",
       "    </tr>\n",
       "    <tr>\n",
       "      <th>4</th>\n",
       "      <td>2</td>\n",
       "      <td>Chef Anton's Gumbo Mix</td>\n",
       "      <td>21.35</td>\n",
       "      <td>USA</td>\n",
       "    </tr>\n",
       "  </tbody>\n",
       "</table>\n",
       "</div>"
      ],
      "text/plain": [
       "   SupplierId                   ProductName  UnitPrice Country\n",
       "0           1                          Chai      18.00      UK\n",
       "1           1                         Chang      19.00      UK\n",
       "2           1                 Aniseed Syrup      10.00      UK\n",
       "3           2  Chef Anton's Cajun Seasoning      22.00     USA\n",
       "4           2        Chef Anton's Gumbo Mix      21.35     USA"
      ]
     },
     "execution_count": 12,
     "metadata": {},
     "output_type": "execute_result"
    }
   ],
   "source": [
    "query = \"\"\"select p.SupplierId, p.ProductName, p.UnitPrice, s.Country \n",
    "           from Product as p \n",
    "           left join Supplier as s \n",
    "           on p.SupplierId = s.Id;\"\"\"\n",
    "h2 = funcs.sql_to_df(DB, query)\n",
    "h2.head()"
   ]
  },
  {
   "cell_type": "code",
   "execution_count": 13,
   "metadata": {},
   "outputs": [
    {
     "data": {
      "text/html": [
       "<div>\n",
       "<style scoped>\n",
       "    .dataframe tbody tr th:only-of-type {\n",
       "        vertical-align: middle;\n",
       "    }\n",
       "\n",
       "    .dataframe tbody tr th {\n",
       "        vertical-align: top;\n",
       "    }\n",
       "\n",
       "    .dataframe thead th {\n",
       "        text-align: right;\n",
       "    }\n",
       "</style>\n",
       "<table border=\"1\" class=\"dataframe\">\n",
       "  <thead>\n",
       "    <tr style=\"text-align: right;\">\n",
       "      <th></th>\n",
       "      <th>mean</th>\n",
       "      <th>sum</th>\n",
       "      <th>ProductCount</th>\n",
       "    </tr>\n",
       "    <tr>\n",
       "      <th>Country</th>\n",
       "      <th></th>\n",
       "      <th></th>\n",
       "      <th></th>\n",
       "    </tr>\n",
       "  </thead>\n",
       "  <tbody>\n",
       "    <tr>\n",
       "      <th>Australia</th>\n",
       "      <td>33.831250</td>\n",
       "      <td>270.65</td>\n",
       "      <td>8</td>\n",
       "    </tr>\n",
       "    <tr>\n",
       "      <th>Brazil</th>\n",
       "      <td>4.500000</td>\n",
       "      <td>4.50</td>\n",
       "      <td>1</td>\n",
       "    </tr>\n",
       "    <tr>\n",
       "      <th>Canada</th>\n",
       "      <td>27.312500</td>\n",
       "      <td>109.25</td>\n",
       "      <td>4</td>\n",
       "    </tr>\n",
       "    <tr>\n",
       "      <th>Denmark</th>\n",
       "      <td>10.750000</td>\n",
       "      <td>21.50</td>\n",
       "      <td>2</td>\n",
       "    </tr>\n",
       "    <tr>\n",
       "      <th>Finland</th>\n",
       "      <td>18.083333</td>\n",
       "      <td>54.25</td>\n",
       "      <td>3</td>\n",
       "    </tr>\n",
       "    <tr>\n",
       "      <th>France</th>\n",
       "      <td>76.750000</td>\n",
       "      <td>383.75</td>\n",
       "      <td>5</td>\n",
       "    </tr>\n",
       "    <tr>\n",
       "      <th>Germany</th>\n",
       "      <td>37.601111</td>\n",
       "      <td>338.41</td>\n",
       "      <td>9</td>\n",
       "    </tr>\n",
       "    <tr>\n",
       "      <th>Italy</th>\n",
       "      <td>27.360000</td>\n",
       "      <td>136.80</td>\n",
       "      <td>5</td>\n",
       "    </tr>\n",
       "    <tr>\n",
       "      <th>Japan</th>\n",
       "      <td>30.458333</td>\n",
       "      <td>182.75</td>\n",
       "      <td>6</td>\n",
       "    </tr>\n",
       "    <tr>\n",
       "      <th>Netherlands</th>\n",
       "      <td>11.125000</td>\n",
       "      <td>22.25</td>\n",
       "      <td>2</td>\n",
       "    </tr>\n",
       "    <tr>\n",
       "      <th>Norway</th>\n",
       "      <td>20.000000</td>\n",
       "      <td>60.00</td>\n",
       "      <td>3</td>\n",
       "    </tr>\n",
       "    <tr>\n",
       "      <th>Singapore</th>\n",
       "      <td>26.483333</td>\n",
       "      <td>79.45</td>\n",
       "      <td>3</td>\n",
       "    </tr>\n",
       "    <tr>\n",
       "      <th>Spain</th>\n",
       "      <td>29.500000</td>\n",
       "      <td>59.00</td>\n",
       "      <td>2</td>\n",
       "    </tr>\n",
       "    <tr>\n",
       "      <th>Sweden</th>\n",
       "      <td>18.000000</td>\n",
       "      <td>90.00</td>\n",
       "      <td>5</td>\n",
       "    </tr>\n",
       "    <tr>\n",
       "      <th>UK</th>\n",
       "      <td>22.814286</td>\n",
       "      <td>159.70</td>\n",
       "      <td>7</td>\n",
       "    </tr>\n",
       "    <tr>\n",
       "      <th>USA</th>\n",
       "      <td>20.870833</td>\n",
       "      <td>250.45</td>\n",
       "      <td>12</td>\n",
       "    </tr>\n",
       "  </tbody>\n",
       "</table>\n",
       "</div>"
      ],
      "text/plain": [
       "                  mean     sum  ProductCount\n",
       "Country                                     \n",
       "Australia    33.831250  270.65             8\n",
       "Brazil        4.500000    4.50             1\n",
       "Canada       27.312500  109.25             4\n",
       "Denmark      10.750000   21.50             2\n",
       "Finland      18.083333   54.25             3\n",
       "France       76.750000  383.75             5\n",
       "Germany      37.601111  338.41             9\n",
       "Italy        27.360000  136.80             5\n",
       "Japan        30.458333  182.75             6\n",
       "Netherlands  11.125000   22.25             2\n",
       "Norway       20.000000   60.00             3\n",
       "Singapore    26.483333   79.45             3\n",
       "Spain        29.500000   59.00             2\n",
       "Sweden       18.000000   90.00             5\n",
       "UK           22.814286  159.70             7\n",
       "USA          20.870833  250.45            12"
      ]
     },
     "execution_count": 13,
     "metadata": {},
     "output_type": "execute_result"
    }
   ],
   "source": [
    "h2_countries = h2.groupby('Country')['UnitPrice'].agg(['mean', 'sum'])\n",
    "h2_countries['ProductCount'] = h2['Country'].value_counts()\n",
    "h2_countries.add_prefix('UnitPrice_')\n",
    "h2_countries"
   ]
  },
  {
   "cell_type": "code",
   "execution_count": 14,
   "metadata": {},
   "outputs": [
    {
     "data": {
      "text/plain": [
       "Text(0.5, 1.0, 'Average Price of Products Out of a Country')"
      ]
     },
     "execution_count": 14,
     "metadata": {},
     "output_type": "execute_result"
    },
    {
     "data": {
      "image/png": "[encoded data removed]",
      "text/plain": [
       "<Figure size 1080x360 with 1 Axes>"
      ]
     },
     "metadata": {
      "needs_background": "light"
     },
     "output_type": "display_data"
    }
   ],
   "source": [
    "fig = plt.figure(figsize=(15,5))\n",
    "sns.barplot(h2_countries.index, h2_countries['mean'])\n",
    "plt.title('Average Price of Products Out of a Country')"
   ]
  },
  {
   "cell_type": "code",
   "execution_count": 15,
   "metadata": {},
   "outputs": [],
   "source": [
    "ext_data = {}"
   ]
  },
  {
   "cell_type": "code",
   "execution_count": 16,
   "metadata": {},
   "outputs": [],
   "source": [
    "for country in h2[\"Country\"].unique():\n",
    "    data = h2.loc[(h2['Country']==country)]['UnitPrice']\n",
    "    if len(data) >= 3:\n",
    "        boot = funcs.bootstrap(data, 30)\n",
    "        ext_data[country] = boot"
   ]
  },
  {
   "cell_type": "code",
   "execution_count": 17,
   "metadata": {},
   "outputs": [],
   "source": [
    "for k,v in ext_data.items():\n",
    "    ext_data[k] = v[0]\n",
    "\n",
    "ext_df = pd.DataFrame(ext_data)"
   ]
  },
  {
   "cell_type": "markdown",
   "metadata": {},
   "source": [
    "### Hypothesis 3\n",
    "#### Null Hypothesis:\n",
    "There isn't a significant statistical difference between the total revenue brought in per employee.\n",
    "#### Alternative Hypothesis:\n",
    "There is a significant statistical difference between the total revenue brought in per employee."
   ]
  },
  {
   "cell_type": "code",
   "execution_count": 18,
   "metadata": {},
   "outputs": [
    {
     "data": {
      "text/html": [
       "<div>\n",
       "<style scoped>\n",
       "    .dataframe tbody tr th:only-of-type {\n",
       "        vertical-align: middle;\n",
       "    }\n",
       "\n",
       "    .dataframe tbody tr th {\n",
       "        vertical-align: top;\n",
       "    }\n",
       "\n",
       "    .dataframe thead th {\n",
       "        text-align: right;\n",
       "    }\n",
       "</style>\n",
       "<table border=\"1\" class=\"dataframe\">\n",
       "  <thead>\n",
       "    <tr style=\"text-align: right;\">\n",
       "      <th></th>\n",
       "      <th>Id</th>\n",
       "      <th>EmployeeId</th>\n",
       "      <th>Region</th>\n",
       "      <th>OrderPrice</th>\n",
       "    </tr>\n",
       "  </thead>\n",
       "  <tbody>\n",
       "    <tr>\n",
       "      <th>0</th>\n",
       "      <td>10248</td>\n",
       "      <td>5</td>\n",
       "      <td>British Isles</td>\n",
       "      <td>440.00</td>\n",
       "    </tr>\n",
       "    <tr>\n",
       "      <th>1</th>\n",
       "      <td>10249</td>\n",
       "      <td>6</td>\n",
       "      <td>British Isles</td>\n",
       "      <td>1863.40</td>\n",
       "    </tr>\n",
       "    <tr>\n",
       "      <th>2</th>\n",
       "      <td>10250</td>\n",
       "      <td>4</td>\n",
       "      <td>North America</td>\n",
       "      <td>1552.60</td>\n",
       "    </tr>\n",
       "    <tr>\n",
       "      <th>3</th>\n",
       "      <td>10251</td>\n",
       "      <td>3</td>\n",
       "      <td>North America</td>\n",
       "      <td>654.06</td>\n",
       "    </tr>\n",
       "    <tr>\n",
       "      <th>4</th>\n",
       "      <td>10252</td>\n",
       "      <td>4</td>\n",
       "      <td>North America</td>\n",
       "      <td>3597.90</td>\n",
       "    </tr>\n",
       "  </tbody>\n",
       "</table>\n",
       "</div>"
      ],
      "text/plain": [
       "      Id  EmployeeId         Region  OrderPrice\n",
       "0  10248           5  British Isles      440.00\n",
       "1  10249           6  British Isles     1863.40\n",
       "2  10250           4  North America     1552.60\n",
       "3  10251           3  North America      654.06\n",
       "4  10252           4  North America     3597.90"
      ]
     },
     "execution_count": 18,
     "metadata": {},
     "output_type": "execute_result"
    }
   ],
   "source": [
    "query = '''select o.Id, \n",
    "               o.EmployeeId, \n",
    "               e.Region, \n",
    "               sum((od.UnitPrice * (1 - od.Discount)) * od.Quantity) OrderPrice \n",
    "           from [Order] o \n",
    "           join Employee e \n",
    "           on e.Id = o.EmployeeId\n",
    "           join OrderDetail od\n",
    "           on o.Id = od.OrderId\n",
    "           group by o.Id;'''\n",
    "\n",
    "h3 = funcs.sql_to_df(DB, query)\n",
    "h3.head()"
   ]
  },
  {
   "cell_type": "markdown",
   "metadata": {},
   "source": [
    "The OrderPrice column represents the amount of money for a single order."
   ]
  },
  {
   "cell_type": "code",
   "execution_count": 26,
   "metadata": {},
   "outputs": [
    {
     "data": {
      "text/plain": [
       "Text(0.5, 0, 'Employee')"
      ]
     },
     "execution_count": 26,
     "metadata": {},
     "output_type": "execute_result"
    },
    {
     "data": {
      "image/png": "[encoded data removed]",
      "text/plain": [
       "<Figure size 432x288 with 1 Axes>"
      ]
     },
     "metadata": {
      "needs_background": "light"
     },
     "output_type": "display_data"
    }
   ],
   "source": [
    "y = h3.groupby('EmployeeId')['OrderPrice'].mean() # mean of the total amount of money was calculated for each employee\n",
    "sns.barplot(y.index, y, color='#1a9988ff')\n",
    "plt.title('Average Price per Order for Every Employee')\n",
    "plt.ylabel('Price')\n",
    "plt.xlabel('Employee')"
   ]
  },
  {
   "cell_type": "code",
   "execution_count": 20,
   "metadata": {},
   "outputs": [
    {
     "name": "stdout",
     "output_type": "stream",
     "text": [
      "                     sum_sq     df        F    PR(>F)\n",
      "C(EmployeeId)  3.358256e+07    8.0  1.23576  0.274783\n",
      "Residual       2.788901e+09  821.0      NaN       NaN\n"
     ]
    }
   ],
   "source": [
    "\"\"\"\n",
    "ANOVA test was used to compare multiple employees \n",
    "production to save time from testing all of the \n",
    "possible combinations comparing each employee to \n",
    "each employe\n",
    "\"\"\"\n",
    "\n",
    "formula = 'OrderPrice ~ C(EmployeeId)'\n",
    "lm = smf.ols(formula, h3).fit()\n",
    "table = sm.stats.anova_lm(lm, typ=2)\n",
    "print(table)"
   ]
  },
  {
   "cell_type": "markdown",
   "metadata": {},
   "source": [
    "## Results\n",
    "The ANOVA test chosen because the hypothesis called for comparing multiple samples not just two. If there were just two employees then a t-test would have been sufficient. The F-stat is the significant statistic when using the ANOVA test. Since the p-value is greater than the set significance level, the null hypothesis failed to be rejected. "
   ]
  },
  {
   "cell_type": "markdown",
   "metadata": {},
   "source": [
    "## Hypothesis 4\n",
    "#### Null Hypothesis:\n",
    "There isn't a significant statistical difference between the revenue brought in per Office.\n",
    "#### Alternative Hypothesis:\n",
    "There is a significant statistical difference between the revenue brought in per Office."
   ]
  },
  {
   "cell_type": "code",
   "execution_count": 21,
   "metadata": {},
   "outputs": [
    {
     "data": {
      "text/html": [
       "<div>\n",
       "<style scoped>\n",
       "    .dataframe tbody tr th:only-of-type {\n",
       "        vertical-align: middle;\n",
       "    }\n",
       "\n",
       "    .dataframe tbody tr th {\n",
       "        vertical-align: top;\n",
       "    }\n",
       "\n",
       "    .dataframe thead th {\n",
       "        text-align: right;\n",
       "    }\n",
       "</style>\n",
       "<table border=\"1\" class=\"dataframe\">\n",
       "  <thead>\n",
       "    <tr style=\"text-align: right;\">\n",
       "      <th></th>\n",
       "      <th>Id</th>\n",
       "      <th>EmployeeId</th>\n",
       "      <th>Region</th>\n",
       "      <th>OrderPrice</th>\n",
       "    </tr>\n",
       "  </thead>\n",
       "  <tbody>\n",
       "    <tr>\n",
       "      <th>0</th>\n",
       "      <td>10248</td>\n",
       "      <td>5</td>\n",
       "      <td>British Isles</td>\n",
       "      <td>440.00</td>\n",
       "    </tr>\n",
       "    <tr>\n",
       "      <th>1</th>\n",
       "      <td>10249</td>\n",
       "      <td>6</td>\n",
       "      <td>British Isles</td>\n",
       "      <td>1863.40</td>\n",
       "    </tr>\n",
       "    <tr>\n",
       "      <th>2</th>\n",
       "      <td>10250</td>\n",
       "      <td>4</td>\n",
       "      <td>North America</td>\n",
       "      <td>1552.60</td>\n",
       "    </tr>\n",
       "    <tr>\n",
       "      <th>3</th>\n",
       "      <td>10251</td>\n",
       "      <td>3</td>\n",
       "      <td>North America</td>\n",
       "      <td>654.06</td>\n",
       "    </tr>\n",
       "    <tr>\n",
       "      <th>4</th>\n",
       "      <td>10252</td>\n",
       "      <td>4</td>\n",
       "      <td>North America</td>\n",
       "      <td>3597.90</td>\n",
       "    </tr>\n",
       "  </tbody>\n",
       "</table>\n",
       "</div>"
      ],
      "text/plain": [
       "      Id  EmployeeId         Region  OrderPrice\n",
       "0  10248           5  British Isles      440.00\n",
       "1  10249           6  British Isles     1863.40\n",
       "2  10250           4  North America     1552.60\n",
       "3  10251           3  North America      654.06\n",
       "4  10252           4  North America     3597.90"
      ]
     },
     "execution_count": 21,
     "metadata": {},
     "output_type": "execute_result"
    }
   ],
   "source": [
    "h3.head()"
   ]
  },
  {
   "cell_type": "code",
   "execution_count": 22,
   "metadata": {},
   "outputs": [],
   "source": [
    "group_h3 = h3.groupby('Region')['OrderPrice'].agg(['sum', 'mean'])"
   ]
  },
  {
   "cell_type": "code",
   "execution_count": 35,
   "metadata": {},
   "outputs": [
    {
     "data": {
      "text/plain": [
       "Text(0, 0.5, 'Average Price per Order')"
      ]
     },
     "execution_count": 35,
     "metadata": {},
     "output_type": "execute_result"
    },
    {
     "data": {
      "image/png": "[encoded data removed]",
      "text/plain": [
       "<Figure size 1080x360 with 2 Axes>"
      ]
     },
     "metadata": {
      "needs_background": "light"
     },
     "output_type": "display_data"
    }
   ],
   "source": [
    "fig = plt.figure(figsize=(15,5))\n",
    "plt.subplot(121)\n",
    "sns.barplot(group_h3.index, group_h3['sum'], color='#1a9988ff')\n",
    "plt.title('Overall Revenue by Employee from the Two Offices')\n",
    "plt.ylabel('Total Revenue')\n",
    "plt.subplot(122)\n",
    "sns.barplot(group_h3.index, group_h3['mean'], color='#eb5600ff')\n",
    "plt.title('The Average Price of Order from the Two Offices')\n",
    "plt.ylabel('Average Price per Order')"
   ]
  },
  {
   "cell_type": "code",
   "execution_count": 25,
   "metadata": {},
   "outputs": [
    {
     "name": "stdout",
     "output_type": "stream",
     "text": [
      "T-stat: -0.1257920376990191\n",
      "p-value: 0.8999270811672749\n",
      " CohensD: 0.009836113809944588\n"
     ]
    }
   ],
   "source": [
    "seatle = h3.loc[h3['Region']=='North America']['OrderPrice'] \n",
    "london = h3.loc[h3['Region']=='British Isles']['OrderPrice']\n",
    "\n",
    "t, p = ttest_ind(seatle, london)\n",
    "d = funcs.Cohen_d(seatle, london)\n",
    "print('T-stat: {}\\np-value: {}\\n'.format(t,p), \"CohensD: {}\".format(d))"
   ]
  },
  {
   "cell_type": "markdown",
   "metadata": {},
   "source": [
    "## Results\n",
    "The null hypothesis failed to be rejected indicated by the large p-value. If the total number of orders proccessed by each office was observed, your conclusion would be that the Seatle office out performs the London office. What that observation doesn't take into account is the population of consumers are different. The London office just may not get as many orders than the Seatle office does. That's is why average profit for each order in the different offices was the comparing stat because it compares them on an even playing field. But in conclusion both offices bring in the same impact."
   ]
  },
  {
   "cell_type": "code",
   "execution_count": null,
   "metadata": {},
   "outputs": [],
   "source": []
  }
 ],
 "metadata": {
  "kernelspec": {
   "display_name": "Python 3",
   "language": "python",
   "name": "python3"
  },
  "language_info": {
   "codemirror_mode": {
    "name": "ipython",
    "version": 3
   },
   "file_extension": ".py",
   "mimetype": "text/x-python",
   "name": "python",
   "nbconvert_exporter": "python",
   "pygments_lexer": "ipython3",
   "version": "3.6.6"
  },
  "varInspector": {
   "cols": {
    "lenName": 16,
    "lenType": 16,
    "lenVar": 40
   },
   "kernels_config": {
    "python": {
     "delete_cmd_postfix": "",
     "delete_cmd_prefix": "del ",
     "library": "var_list.py",
     "varRefreshCmd": "print(var_dic_list())"
    },
    "r": {
     "delete_cmd_postfix": ") ",
     "delete_cmd_prefix": "rm(",
     "library": "var_list.r",
     "varRefreshCmd": "cat(var_dic_list()) "
    }
   },
   "position": {
    "height": "492px",
    "left": "910px",
    "right": "20px",
    "top": "120px",
    "width": "350px"
   },
   "types_to_exclude": [
    "module",
    "function",
    "builtin_function_or_method",
    "instance",
    "_Feature"
   ],
   "window_display": false
  }
 },
 "nbformat": 4,
 "nbformat_minor": 2
}
